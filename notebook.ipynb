{
 "cells": [
  {
   "cell_type": "markdown",
   "id": "0660c3bf",
   "metadata": {},
   "source": [
    "# What Makes a Cult Classic? A K-Means Clustering Analysis of Films.\n",
    "### **Project Overview.**\n",
    "Stilinski movie studio is a production company that produces Horror films in Africa. Due to its recent success, the company has felt the need to diversify its portfolio and has identified cult films as an exciting new production branch. However, due to the fact that they have only produced horror films and have no idea on anything about cult films, they have commission us to find out what makes a cult classic.\n",
    "\n",
    "This project is going to analyze past cult films and shows performances over the years and identify patterns or aspects that made them stand out in the box office. Our findings will help stakeholders in the company make informed decisions in the next crucial steps moving forward.\n",
    "\n",
    "## **Business Understanding.**\n",
    "The film industry as a whole involves understanding how films are developed, financed, produced, distributed and monetized. In order to make informed decisions on those areas, we are going to explore the patterns or aspects of cult films currently doing well, and let our findings guide our recommendations. \n",
    "\n",
    "The industry is characterized by:\n",
    "\n",
    "- High upfront investment with uncertain returns.\n",
    "\n",
    "- Global and local market reach.\n",
    "\n",
    "- Revenue from multiple channels, including;\n",
    "\n",
    "  - Box office ticket sales\n",
    "\n",
    "  - Streaming\n",
    "\n",
    "  - DVD/Blu-ray sales\n",
    "\n",
    "### Problem Statement.\n",
    "Stilinski Company, having operated outside of cult film production but also inside of the film industry, is in a very intresting position as its journeying into a new, yet not very new territory. It's knowledge of how movie production works places it ahead and maybe even in a unique position as intergrating the world of horror and cult may give birth to something the audience has actually been waiting for.\n",
    "\n",
    "Cult classics are often loved by niche audiences and do  not always follow blockbuster rules. This project seeks to explore whether we can group films into meaningful categories and identify where cult classics land.\n",
    "\n",
    "This project seeks to give answers to the following question;\n",
    "\n",
    "1. What makes a cult classic?\n",
    "\n",
    "### Project Objectives.\n",
    "- Strong Box Office Performance.\n",
    "\n",
    "- Market Penetration & Audience Reach.\n",
    "\n",
    "- Consistently producing quality, successful content.\n",
    "\n",
    "- Having different revenue Streams beyond box office earnings.\n",
    "\n",
    "- Films should receive favorable reviews and ratings on platforms like IMDb, Rotten Tomatoes, and Metacritic.\n",
    "\n",
    "- Awards and Industry Recognition.\n",
    "\n",
    "### Stakeholders.\n",
    "\n",
    "1. Studio executive - Primary decision maker\n",
    "\n",
    "2. Marketing team - Plan on promotions and time for release\n",
    "\n",
    "3. Finance team - Budget planning\n",
    "\n",
    "4. Production team - Content creation\n",
    "\n",
    "5. Investors - Provides fundings for the productions.\n",
    "\n",
    "### Project plan.\n",
    "We will be using libraries such as pandas, matplotlib, seaborn and sklearn to carry out the following;\n",
    "- Exploratory Data Analysis (EDA)\n",
    "\n",
    "- Feature engineering\n",
    "\n",
    "- Genre Encoding\n",
    "\n",
    "- Scaling\n",
    "\n",
    "- K-Means Clutering\n",
    "\n",
    "- Data Visualization"
   ]
  },
  {
   "cell_type": "markdown",
   "id": "606f54a6",
   "metadata": {},
   "source": [
    "## **Data Understanding.**\n",
    "### Data source.\n",
    "Under the file path `Data/`, we have a cult movies dataset compiled from different movie websites by the use of Artificial Intelligence (AI). The dataset, `cult_classics_dataset.csv`, contains data from the Internet Movie Database (IMDB) giving us access to movie titles, their genres, ratings, revenues and many more from the year 1994 to 2014.\n",
    "\n",
    "### Why is the dataset suitable for this project?\n",
    "In the project overview, we mention that this project seeks to understand what makes a cult film/show a classic. This dataset contains information on cult films that will help us understand, through our analysis, what really makes a cult classic through different film aspects.\n",
    "\n",
    "- This dataset is suitable for the project as it allows analysis of past movie performance data, including audience ratings, and box office numbers, to create models that predict the potential success of upcoming films. Also, community reviews and ratings reveal audience tastes and preferences, which can help the studio tailor their content to appeal to specific demographics and genres. \n",
    "\n",
    "- The database provides a wealth of data for market research, allowing us to understand trends, competitor activities, and potential opportunities.\n",
    "\n",
    "### Exploring the dataset for understanding.\n",
    "#### Importing dependancies and loading the dataset.\n",
    "To work smoothly and efficiently, we are using python libraries for our analysis and other things.\n",
    "\n",
    "We are using the pandas' `read_csv()` method to efficiently load the dataset into the notebook."
   ]
  },
  {
   "cell_type": "code",
   "execution_count": null,
   "id": "ff6f09ba",
   "metadata": {},
   "outputs": [],
   "source": [
    "# Import all the dependencies needed for this project.\n",
    "import pandas as pd\n",
    "import matplotlib.pyplot as plt\n",
    "import seaborn as sns\n",
    "from sklearn.preprocessing import StandardScaler\n",
    "from sklearn.cluster import KMeans\n",
    "\n",
    "# Load the dataset using pandas\n",
    "cult_classics = pd.read_csv('Data/cult_classics_dataset.csv', sep= ',')"
   ]
  },
  {
   "cell_type": "markdown",
   "id": "00fb70f2",
   "metadata": {},
   "source": [
    "#### Qualitative Analysis.\n",
    "In this part we are exploring the dataset, trying to understand its qualities and its structure. We are also looking to flag any data quality issues that may impact our analysis negatively. We will be looking at the first few rows and also at the dataset's summary."
   ]
  },
  {
   "cell_type": "code",
   "execution_count": 53,
   "id": "26cc2944",
   "metadata": {},
   "outputs": [
    {
     "data": {
      "text/html": [
       "<div>\n",
       "<style scoped>\n",
       "    .dataframe tbody tr th:only-of-type {\n",
       "        vertical-align: middle;\n",
       "    }\n",
       "\n",
       "    .dataframe tbody tr th {\n",
       "        vertical-align: top;\n",
       "    }\n",
       "\n",
       "    .dataframe thead th {\n",
       "        text-align: right;\n",
       "    }\n",
       "</style>\n",
       "<table border=\"1\" class=\"dataframe\">\n",
       "  <thead>\n",
       "    <tr style=\"text-align: right;\">\n",
       "      <th></th>\n",
       "      <th>Title</th>\n",
       "      <th>Genres</th>\n",
       "      <th>Runtime</th>\n",
       "      <th>Release Year</th>\n",
       "      <th>IMDB Rating</th>\n",
       "      <th>Metascore</th>\n",
       "      <th>Votes</th>\n",
       "      <th>Revenue (Millions)</th>\n",
       "      <th>Keywords</th>\n",
       "    </tr>\n",
       "  </thead>\n",
       "  <tbody>\n",
       "    <tr>\n",
       "      <th>0</th>\n",
       "      <td>The Matrix</td>\n",
       "      <td>Action, Sci-Fi</td>\n",
       "      <td>136</td>\n",
       "      <td>1999</td>\n",
       "      <td>8.7</td>\n",
       "      <td>73</td>\n",
       "      <td>1900000</td>\n",
       "      <td>463.5</td>\n",
       "      <td>virtual reality, dystopia</td>\n",
       "    </tr>\n",
       "    <tr>\n",
       "      <th>1</th>\n",
       "      <td>Donnie Darko</td>\n",
       "      <td>Drama, Mystery</td>\n",
       "      <td>113</td>\n",
       "      <td>2001</td>\n",
       "      <td>8.0</td>\n",
       "      <td>88</td>\n",
       "      <td>800000</td>\n",
       "      <td>7.5</td>\n",
       "      <td>time travel, alternate universe</td>\n",
       "    </tr>\n",
       "    <tr>\n",
       "      <th>2</th>\n",
       "      <td>Pulp Fiction</td>\n",
       "      <td>Crime, Drama</td>\n",
       "      <td>154</td>\n",
       "      <td>1994</td>\n",
       "      <td>8.9</td>\n",
       "      <td>94</td>\n",
       "      <td>1900000</td>\n",
       "      <td>213.9</td>\n",
       "      <td>nonlinear, hitman</td>\n",
       "    </tr>\n",
       "    <tr>\n",
       "      <th>3</th>\n",
       "      <td>Avatar</td>\n",
       "      <td>Action, Adventure</td>\n",
       "      <td>162</td>\n",
       "      <td>2009</td>\n",
       "      <td>7.8</td>\n",
       "      <td>83</td>\n",
       "      <td>1200000</td>\n",
       "      <td>2787.9</td>\n",
       "      <td>alien, sci-fi</td>\n",
       "    </tr>\n",
       "    <tr>\n",
       "      <th>4</th>\n",
       "      <td>Into the Wild</td>\n",
       "      <td>Adventure, Biography</td>\n",
       "      <td>148</td>\n",
       "      <td>2007</td>\n",
       "      <td>8.1</td>\n",
       "      <td>73</td>\n",
       "      <td>600000</td>\n",
       "      <td>56.3</td>\n",
       "      <td>nature, escape</td>\n",
       "    </tr>\n",
       "  </tbody>\n",
       "</table>\n",
       "</div>"
      ],
      "text/plain": [
       "           Title                Genres  Runtime  Release Year  IMDB Rating  \\\n",
       "0     The Matrix        Action, Sci-Fi      136          1999          8.7   \n",
       "1   Donnie Darko        Drama, Mystery      113          2001          8.0   \n",
       "2   Pulp Fiction          Crime, Drama      154          1994          8.9   \n",
       "3         Avatar     Action, Adventure      162          2009          7.8   \n",
       "4  Into the Wild  Adventure, Biography      148          2007          8.1   \n",
       "\n",
       "   Metascore    Votes  Revenue (Millions)                         Keywords  \n",
       "0         73  1900000               463.5        virtual reality, dystopia  \n",
       "1         88   800000                 7.5  time travel, alternate universe  \n",
       "2         94  1900000               213.9                nonlinear, hitman  \n",
       "3         83  1200000              2787.9                    alien, sci-fi  \n",
       "4         73   600000                56.3                   nature, escape  "
      ]
     },
     "execution_count": 53,
     "metadata": {},
     "output_type": "execute_result"
    }
   ],
   "source": [
    "# Get a preview of what we are working with, we are using the .head() method.\n",
    "cult_classics.head()"
   ]
  },
  {
   "cell_type": "markdown",
   "id": "59917f7b",
   "metadata": {},
   "source": [
    "From the first preview, we see that the data has 9 columns out of which 3 columns contain values stored as objcts and the rest as numerical datasets. However, we cannot be certain. In the next code we are using the .info() method to give us a consice summary of the data."
   ]
  },
  {
   "cell_type": "code",
   "execution_count": 54,
   "id": "4ace95ac",
   "metadata": {},
   "outputs": [
    {
     "name": "stdout",
     "output_type": "stream",
     "text": [
      "<class 'pandas.core.frame.DataFrame'>\n",
      "RangeIndex: 10 entries, 0 to 9\n",
      "Data columns (total 9 columns):\n",
      " #   Column              Non-Null Count  Dtype  \n",
      "---  ------              --------------  -----  \n",
      " 0   Title               10 non-null     object \n",
      " 1   Genres              10 non-null     object \n",
      " 2   Runtime             10 non-null     int64  \n",
      " 3   Release Year        10 non-null     int64  \n",
      " 4   IMDB Rating         10 non-null     float64\n",
      " 5   Metascore           10 non-null     int64  \n",
      " 6   Votes               10 non-null     int64  \n",
      " 7   Revenue (Millions)  10 non-null     float64\n",
      " 8   Keywords            10 non-null     object \n",
      "dtypes: float64(2), int64(4), object(3)\n",
      "memory usage: 848.0+ bytes\n"
     ]
    }
   ],
   "source": [
    "# This will help us understand the structure of the data\n",
    "# How many rows, columns, non null counts, datatypes etc. does the dataset have?\n",
    "\n",
    "cult_classics.info()"
   ]
  },
  {
   "cell_type": "code",
   "execution_count": 55,
   "id": "5c85f6c0",
   "metadata": {},
   "outputs": [
    {
     "data": {
      "text/plain": [
       "0"
      ]
     },
     "execution_count": 55,
     "metadata": {},
     "output_type": "execute_result"
    }
   ],
   "source": [
    "# Check for duplicates\n",
    "cult_classics.duplicated().sum()"
   ]
  },
  {
   "cell_type": "markdown",
   "id": "348a090e",
   "metadata": {},
   "source": [
    "The dataset contains information stored in 9 columns and 10 rows. The values are stored as objects, floats and integers. The dataset is also mostly clean with all columns having the same non null counts as the number of rows stated and contains no duplicated records.\n",
    "\n",
    "#### Quantitative Analysis.\n",
    "Here we will be looking at the quantitative summary of the dataset including the numerical data's measures of central tendencies, measures of spread and some aggregate functions."
   ]
  },
  {
   "cell_type": "code",
   "execution_count": 56,
   "id": "cff7e67e",
   "metadata": {},
   "outputs": [
    {
     "data": {
      "text/html": [
       "<div>\n",
       "<style scoped>\n",
       "    .dataframe tbody tr th:only-of-type {\n",
       "        vertical-align: middle;\n",
       "    }\n",
       "\n",
       "    .dataframe tbody tr th {\n",
       "        vertical-align: top;\n",
       "    }\n",
       "\n",
       "    .dataframe thead th {\n",
       "        text-align: right;\n",
       "    }\n",
       "</style>\n",
       "<table border=\"1\" class=\"dataframe\">\n",
       "  <thead>\n",
       "    <tr style=\"text-align: right;\">\n",
       "      <th></th>\n",
       "      <th>Runtime</th>\n",
       "      <th>Release Year</th>\n",
       "      <th>IMDB Rating</th>\n",
       "      <th>Metascore</th>\n",
       "      <th>Votes</th>\n",
       "      <th>Revenue (Millions)</th>\n",
       "    </tr>\n",
       "  </thead>\n",
       "  <tbody>\n",
       "    <tr>\n",
       "      <th>count</th>\n",
       "      <td>10.000000</td>\n",
       "      <td>10.000000</td>\n",
       "      <td>10.000000</td>\n",
       "      <td>10.000000</td>\n",
       "      <td>1.000000e+01</td>\n",
       "      <td>10.00000</td>\n",
       "    </tr>\n",
       "    <tr>\n",
       "      <th>mean</th>\n",
       "      <td>129.200000</td>\n",
       "      <td>2004.300000</td>\n",
       "      <td>7.650000</td>\n",
       "      <td>72.800000</td>\n",
       "      <td>9.880000e+05</td>\n",
       "      <td>382.85000</td>\n",
       "    </tr>\n",
       "    <tr>\n",
       "      <th>std</th>\n",
       "      <td>22.552654</td>\n",
       "      <td>6.447222</td>\n",
       "      <td>1.542905</td>\n",
       "      <td>24.733243</td>\n",
       "      <td>6.670799e+05</td>\n",
       "      <td>856.06742</td>\n",
       "    </tr>\n",
       "    <tr>\n",
       "      <th>min</th>\n",
       "      <td>96.000000</td>\n",
       "      <td>1994.000000</td>\n",
       "      <td>3.600000</td>\n",
       "      <td>9.000000</td>\n",
       "      <td>8.000000e+04</td>\n",
       "      <td>1.80000</td>\n",
       "    </tr>\n",
       "    <tr>\n",
       "      <th>25%</th>\n",
       "      <td>114.500000</td>\n",
       "      <td>1999.500000</td>\n",
       "      <td>7.725000</td>\n",
       "      <td>67.750000</td>\n",
       "      <td>5.250000e+05</td>\n",
       "      <td>46.42500</td>\n",
       "    </tr>\n",
       "    <tr>\n",
       "      <th>50%</th>\n",
       "      <td>131.000000</td>\n",
       "      <td>2003.500000</td>\n",
       "      <td>8.000000</td>\n",
       "      <td>78.000000</td>\n",
       "      <td>7.000000e+05</td>\n",
       "      <td>78.60000</td>\n",
       "    </tr>\n",
       "    <tr>\n",
       "      <th>75%</th>\n",
       "      <td>145.750000</td>\n",
       "      <td>2008.500000</td>\n",
       "      <td>8.550000</td>\n",
       "      <td>88.000000</td>\n",
       "      <td>1.650000e+06</td>\n",
       "      <td>186.22500</td>\n",
       "    </tr>\n",
       "    <tr>\n",
       "      <th>max</th>\n",
       "      <td>162.000000</td>\n",
       "      <td>2014.000000</td>\n",
       "      <td>8.900000</td>\n",
       "      <td>94.000000</td>\n",
       "      <td>1.900000e+06</td>\n",
       "      <td>2787.90000</td>\n",
       "    </tr>\n",
       "  </tbody>\n",
       "</table>\n",
       "</div>"
      ],
      "text/plain": [
       "          Runtime  Release Year  IMDB Rating  Metascore         Votes  \\\n",
       "count   10.000000     10.000000    10.000000  10.000000  1.000000e+01   \n",
       "mean   129.200000   2004.300000     7.650000  72.800000  9.880000e+05   \n",
       "std     22.552654      6.447222     1.542905  24.733243  6.670799e+05   \n",
       "min     96.000000   1994.000000     3.600000   9.000000  8.000000e+04   \n",
       "25%    114.500000   1999.500000     7.725000  67.750000  5.250000e+05   \n",
       "50%    131.000000   2003.500000     8.000000  78.000000  7.000000e+05   \n",
       "75%    145.750000   2008.500000     8.550000  88.000000  1.650000e+06   \n",
       "max    162.000000   2014.000000     8.900000  94.000000  1.900000e+06   \n",
       "\n",
       "       Revenue (Millions)  \n",
       "count            10.00000  \n",
       "mean            382.85000  \n",
       "std             856.06742  \n",
       "min               1.80000  \n",
       "25%              46.42500  \n",
       "50%              78.60000  \n",
       "75%             186.22500  \n",
       "max            2787.90000  "
      ]
     },
     "execution_count": 56,
     "metadata": {},
     "output_type": "execute_result"
    }
   ],
   "source": [
    "# Use the .describe() method to obtain the statistics summary of the data.\n",
    "# This method generates descriptive statistics of the data.\n",
    "\n",
    "cult_classics.describe()"
   ]
  },
  {
   "cell_type": "markdown",
   "id": "24ceb632",
   "metadata": {},
   "source": [
    "The code above provides us the statistical summary of all the numerical columns in the dataset. The average runtime in the dataset is 129.2 minutes, while in IMDB Rating and Metascore in 7.65 and 72.8 respectively. It also oes as far as proving us with the 25th, 50th and 75th percentiles.\n",
    "\n",
    "## **Data Cleaning.**\n",
    "During our initial data exploration for our data understandinmg, we figured that there weren't a lot of data quality issues. We do not have null values, or any duplicates.\n",
    "\n",
    "However, lack of the main culprits, does not mean that we do not have to clean the data. In this section we are going to strip and replace the space between the column names with the underscore `_`, and we are going to turn all the names to lower cases for consistency. We are also going to create a primary_genre column and split the genres in every row in the genre column."
   ]
  },
  {
   "cell_type": "code",
   "execution_count": 57,
   "id": "31ae7d72",
   "metadata": {},
   "outputs": [],
   "source": [
    "# Rename columns for consistency\n",
    "cult_classics.columns = cult_classics.columns.str.strip().str.lower().str.replace(' ', '_')\n",
    "\n",
    "# Create primary genre\n",
    "cult_classics['primary_genre'] = cult_classics['genres'].apply(lambda x: x.split(',')[0].strip())"
   ]
  },
  {
   "cell_type": "code",
   "execution_count": 58,
   "id": "1fc214bf",
   "metadata": {},
   "outputs": [
    {
     "data": {
      "text/html": [
       "<div>\n",
       "<style scoped>\n",
       "    .dataframe tbody tr th:only-of-type {\n",
       "        vertical-align: middle;\n",
       "    }\n",
       "\n",
       "    .dataframe tbody tr th {\n",
       "        vertical-align: top;\n",
       "    }\n",
       "\n",
       "    .dataframe thead th {\n",
       "        text-align: right;\n",
       "    }\n",
       "</style>\n",
       "<table border=\"1\" class=\"dataframe\">\n",
       "  <thead>\n",
       "    <tr style=\"text-align: right;\">\n",
       "      <th></th>\n",
       "      <th>title</th>\n",
       "      <th>genres</th>\n",
       "      <th>runtime</th>\n",
       "      <th>release_year</th>\n",
       "      <th>imdb_rating</th>\n",
       "      <th>metascore</th>\n",
       "      <th>votes</th>\n",
       "      <th>revenue_(millions)</th>\n",
       "      <th>keywords</th>\n",
       "      <th>primary_genre</th>\n",
       "    </tr>\n",
       "  </thead>\n",
       "  <tbody>\n",
       "    <tr>\n",
       "      <th>0</th>\n",
       "      <td>The Matrix</td>\n",
       "      <td>Action, Sci-Fi</td>\n",
       "      <td>136</td>\n",
       "      <td>1999</td>\n",
       "      <td>8.7</td>\n",
       "      <td>73</td>\n",
       "      <td>1900000</td>\n",
       "      <td>463.5</td>\n",
       "      <td>virtual reality, dystopia</td>\n",
       "      <td>Action</td>\n",
       "    </tr>\n",
       "    <tr>\n",
       "      <th>1</th>\n",
       "      <td>Donnie Darko</td>\n",
       "      <td>Drama, Mystery</td>\n",
       "      <td>113</td>\n",
       "      <td>2001</td>\n",
       "      <td>8.0</td>\n",
       "      <td>88</td>\n",
       "      <td>800000</td>\n",
       "      <td>7.5</td>\n",
       "      <td>time travel, alternate universe</td>\n",
       "      <td>Drama</td>\n",
       "    </tr>\n",
       "    <tr>\n",
       "      <th>2</th>\n",
       "      <td>Pulp Fiction</td>\n",
       "      <td>Crime, Drama</td>\n",
       "      <td>154</td>\n",
       "      <td>1994</td>\n",
       "      <td>8.9</td>\n",
       "      <td>94</td>\n",
       "      <td>1900000</td>\n",
       "      <td>213.9</td>\n",
       "      <td>nonlinear, hitman</td>\n",
       "      <td>Crime</td>\n",
       "    </tr>\n",
       "    <tr>\n",
       "      <th>3</th>\n",
       "      <td>Avatar</td>\n",
       "      <td>Action, Adventure</td>\n",
       "      <td>162</td>\n",
       "      <td>2009</td>\n",
       "      <td>7.8</td>\n",
       "      <td>83</td>\n",
       "      <td>1200000</td>\n",
       "      <td>2787.9</td>\n",
       "      <td>alien, sci-fi</td>\n",
       "      <td>Action</td>\n",
       "    </tr>\n",
       "    <tr>\n",
       "      <th>4</th>\n",
       "      <td>Into the Wild</td>\n",
       "      <td>Adventure, Biography</td>\n",
       "      <td>148</td>\n",
       "      <td>2007</td>\n",
       "      <td>8.1</td>\n",
       "      <td>73</td>\n",
       "      <td>600000</td>\n",
       "      <td>56.3</td>\n",
       "      <td>nature, escape</td>\n",
       "      <td>Adventure</td>\n",
       "    </tr>\n",
       "  </tbody>\n",
       "</table>\n",
       "</div>"
      ],
      "text/plain": [
       "           title                genres  runtime  release_year  imdb_rating  \\\n",
       "0     The Matrix        Action, Sci-Fi      136          1999          8.7   \n",
       "1   Donnie Darko        Drama, Mystery      113          2001          8.0   \n",
       "2   Pulp Fiction          Crime, Drama      154          1994          8.9   \n",
       "3         Avatar     Action, Adventure      162          2009          7.8   \n",
       "4  Into the Wild  Adventure, Biography      148          2007          8.1   \n",
       "\n",
       "   metascore    votes  revenue_(millions)                         keywords  \\\n",
       "0         73  1900000               463.5        virtual reality, dystopia   \n",
       "1         88   800000                 7.5  time travel, alternate universe   \n",
       "2         94  1900000               213.9                nonlinear, hitman   \n",
       "3         83  1200000              2787.9                    alien, sci-fi   \n",
       "4         73   600000                56.3                   nature, escape   \n",
       "\n",
       "  primary_genre  \n",
       "0        Action  \n",
       "1         Drama  \n",
       "2         Crime  \n",
       "3        Action  \n",
       "4     Adventure  "
      ]
     },
     "execution_count": 58,
     "metadata": {},
     "output_type": "execute_result"
    }
   ],
   "source": [
    "# Preview the changes made\n",
    "cult_classics.head()"
   ]
  },
  {
   "cell_type": "markdown",
   "id": "bce2e4ae",
   "metadata": {},
   "source": [
    "### **Exploratory Data Analysis (EDA).**\n",
    "This section we will be getting a feel of the data. We already know the structure of the data as well as the quantitative part of it. This section is to visualize the data and make us familiar with the content of the columns. In this section we are using the seaborn library for our visualizations.\n",
    "\n",
    "#### Rating distribution.\n",
    "Here we are looking at how the ratings have been distributed in the data that we have. This will help us know the average of the ratings or rather the most frequent rating there is in cult box office."
   ]
  },
  {
   "cell_type": "code",
   "execution_count": 59,
   "id": "b19e8128",
   "metadata": {},
   "outputs": [
    {
     "data": {
      "image/png": "[encoded data removed]",
      "text/plain": [
       "<Figure size 432x288 with 1 Axes>"
      ]
     },
     "metadata": {},
     "output_type": "display_data"
    }
   ],
   "source": [
    "# set style\n",
    "plt.style.use('seaborn-darkgrid')\n",
    "\n",
    "# Plot distribution\n",
    "sns.histplot(x= cult_classics['imdb_rating'], kde= True)\n",
    "plt.title('IMDB rating distribution')\n",
    "plt.show();"
   ]
  },
  {
   "cell_type": "markdown",
   "id": "ed8e0b4f",
   "metadata": {},
   "source": [
    "In the plot above, the highest rating is 9 but most of the films, around 90 per cent of the films, have a rating of 6.5 to around 9. The most films, around 50 per cent, are rated from 7.5 to 8. Following closely, we have the second most films rating at 9.\n",
    "\n",
    "#### Voters vs Revenue.\n",
    "We are checking to see if the number of voters in a film influenced its revenue. This will help us identify if as a production company, you should worry about the number of voters."
   ]
  },
  {
   "cell_type": "code",
   "execution_count": 60,
   "id": "b4e0da05",
   "metadata": {},
   "outputs": [
    {
     "data": {
      "image/png": "[encoded data removed]",
      "text/plain": [
       "<Figure size 432x288 with 1 Axes>"
      ]
     },
     "metadata": {},
     "output_type": "display_data"
    }
   ],
   "source": [
    "# Plot votes against revenue.\n",
    "sns.scatterplot(x= 'votes', y= 'revenue_(millions)', data= cult_classics)\n",
    "plt.title('Voters vs Revenue')\n",
    "plt.show()"
   ]
  },
  {
   "cell_type": "markdown",
   "id": "be4b2291",
   "metadata": {},
   "source": [
    "From the plot, we can conclude that the number of votes do not influence the amount of revenue a film can gross. Apart from the only one that had the highest revenue, which in this case is an outlier, the rest prove that the two do not influece each other.\n",
    "\n",
    "#### Runtime vs Revenue.\n",
    "According to a previous study we did, we found that runtime, in some genres, influence the amount of revenue a film can gross. To customize this finding to the cult films, we are trying to find out if the two aspects are correlated."
   ]
  },
  {
   "cell_type": "code",
   "execution_count": 61,
   "id": "9cc600f7",
   "metadata": {},
   "outputs": [
    {
     "data": {
      "image/png": "[encoded data removed]",
      "text/plain": [
       "<Figure size 432x288 with 1 Axes>"
      ]
     },
     "metadata": {},
     "output_type": "display_data"
    }
   ],
   "source": [
    "# Plot runtime vs revenue.\n",
    "sns.lineplot(data= cult_classics, x= 'runtime', y= 'revenue_(millions)')\n",
    "plt.title('Runtime vs Revenue')\n",
    "plt.show()"
   ]
  },
  {
   "cell_type": "markdown",
   "id": "b0ead834",
   "metadata": {},
   "source": [
    "It is clear that the higher the runtime, the higher the film's revenue. This maybe a coincidence or it maybe true, To be sure about this, we are going to do further analysis and find out if the two cause each other. Remember, they may be correlated but they do not cause changes in the other.\n",
    "\n",
    "#### Metascore vs Rating.\n",
    "Here we are checking to see if metascore is correlated to the film ratings. "
   ]
  },
  {
   "cell_type": "code",
   "execution_count": 62,
   "id": "a8daacec",
   "metadata": {},
   "outputs": [
    {
     "data": {
      "image/png": "[encoded data removed]",
      "text/plain": [
       "<Figure size 432x288 with 1 Axes>"
      ]
     },
     "metadata": {},
     "output_type": "display_data"
    }
   ],
   "source": [
    "# Plot metascore distribution.\n",
    "sns.scatterplot(x= 'metascore', y= 'imdb_rating', data= cult_classics)\n",
    "plt.title('Metascore vs Rating')\n",
    "plt.show()"
   ]
  },
  {
   "cell_type": "markdown",
   "id": "9bbd9f22",
   "metadata": {},
   "source": [
    "The lower the metascore, the lower the rating. In the plot above we can see the relationship is non linear but the concept is quite clear. The two might be slightly correlated. This is because despite seeming that the lower the metascore, the lower the rating, we see that in some films, this isn't the case. For instance, in the film having a metascore of around 60s or 70s, the rating is at 9, but we still have films with higher ratings than that and the have lower ratings.\n",
    "\n",
    "#### Genre Distribution.\n",
    "In the dataset,we have several movies that contain multiple genres, this will help us identify the genres most combined with others in cult films. "
   ]
  },
  {
   "cell_type": "code",
   "execution_count": 63,
   "id": "1052e230",
   "metadata": {},
   "outputs": [
    {
     "data": {
      "image/png": "[encoded data removed]",
      "text/plain": [
       "<Figure size 432x288 with 1 Axes>"
      ]
     },
     "metadata": {},
     "output_type": "display_data"
    }
   ],
   "source": [
    "# Plot genre distribution\n",
    "sns.histplot(x= cult_classics['primary_genre'])\n",
    "plt.title('Genre distribution')\n",
    "plt.show()"
   ]
  },
  {
   "cell_type": "markdown",
   "id": "8db7e7f2",
   "metadata": {},
   "source": [
    "Drama is the most combined primary genre in the cult film industry, followed closely by action and comedy genres. \n",
    "\n",
    "#### Columns Correlation.\n",
    "In this section we are going to look at how and if the columns are correlated."
   ]
  },
  {
   "cell_type": "code",
   "execution_count": 64,
   "id": "72b27c1e",
   "metadata": {},
   "outputs": [
    {
     "data": {
      "image/png": "[encoded data removed]",
      "text/plain": [
       "<Figure size 432x288 with 2 Axes>"
      ]
     },
     "metadata": {},
     "output_type": "display_data"
    }
   ],
   "source": [
    "# Check correlation in columns\n",
    "# Plot heatmap\n",
    "sns.heatmap(cult_classics.corr(), annot= True)\n",
    "plt.title('Columns Relationships')\n",
    "plt.show()"
   ]
  },
  {
   "cell_type": "markdown",
   "id": "66e01d28",
   "metadata": {},
   "source": [
    "In the plot above, we find that several columns are correlated with each other. Metascore and ratings have a high positive correlation at 0.87. Ratings and votes follow closely at 0.72, concluding that the two have a high positive correlation. Other columns that correlate are the runtime and rating columns, the two columns have a low positive correlation at 0.65.\n",
    "\n",
    "## **Analysis.**\n",
    "In tHis section we will be trying to answer the question posed, this process will involve;\n",
    "- Preparing data for analysis.\n",
    "\n",
    "- Analyzing the data. \n",
    "\n",
    "### Preparing data for analysis.\n",
    "First we are going to slice the data to only have the columns relevant for our analysis. We will be using the following columns;\n",
    "- `imdb_rating` - This column reflects audience enjoyment\n",
    "\n",
    "- `metascore` - reflects critic reception\n",
    "\n",
    "- `votes` - reflects popularity of the movie\n",
    "\n",
    "- `revenue_(millions)` - financial success\n",
    "\n",
    "- `runtime` - gives clues about genre tendencies\n",
    "\n",
    "- `primary_genre` - to explore how genres affect clustering\n",
    "\n",
    "These columns have also been chosen because they are numerical or are categorical and can be encoded."
   ]
  },
  {
   "cell_type": "code",
   "execution_count": 65,
   "id": "b03c80ad",
   "metadata": {},
   "outputs": [
    {
     "data": {
      "text/html": [
       "<div>\n",
       "<style scoped>\n",
       "    .dataframe tbody tr th:only-of-type {\n",
       "        vertical-align: middle;\n",
       "    }\n",
       "\n",
       "    .dataframe tbody tr th {\n",
       "        vertical-align: top;\n",
       "    }\n",
       "\n",
       "    .dataframe thead th {\n",
       "        text-align: right;\n",
       "    }\n",
       "</style>\n",
       "<table border=\"1\" class=\"dataframe\">\n",
       "  <thead>\n",
       "    <tr style=\"text-align: right;\">\n",
       "      <th></th>\n",
       "      <th>imdb_rating</th>\n",
       "      <th>metascore</th>\n",
       "      <th>votes</th>\n",
       "      <th>revenue_(millions)</th>\n",
       "      <th>runtime</th>\n",
       "      <th>primary_genre</th>\n",
       "    </tr>\n",
       "  </thead>\n",
       "  <tbody>\n",
       "    <tr>\n",
       "      <th>0</th>\n",
       "      <td>8.7</td>\n",
       "      <td>73</td>\n",
       "      <td>1900000</td>\n",
       "      <td>463.5</td>\n",
       "      <td>136</td>\n",
       "      <td>Action</td>\n",
       "    </tr>\n",
       "    <tr>\n",
       "      <th>1</th>\n",
       "      <td>8.0</td>\n",
       "      <td>88</td>\n",
       "      <td>800000</td>\n",
       "      <td>7.5</td>\n",
       "      <td>113</td>\n",
       "      <td>Drama</td>\n",
       "    </tr>\n",
       "    <tr>\n",
       "      <th>2</th>\n",
       "      <td>8.9</td>\n",
       "      <td>94</td>\n",
       "      <td>1900000</td>\n",
       "      <td>213.9</td>\n",
       "      <td>154</td>\n",
       "      <td>Crime</td>\n",
       "    </tr>\n",
       "    <tr>\n",
       "      <th>3</th>\n",
       "      <td>7.8</td>\n",
       "      <td>83</td>\n",
       "      <td>1200000</td>\n",
       "      <td>2787.9</td>\n",
       "      <td>162</td>\n",
       "      <td>Action</td>\n",
       "    </tr>\n",
       "    <tr>\n",
       "      <th>4</th>\n",
       "      <td>8.1</td>\n",
       "      <td>73</td>\n",
       "      <td>600000</td>\n",
       "      <td>56.3</td>\n",
       "      <td>148</td>\n",
       "      <td>Adventure</td>\n",
       "    </tr>\n",
       "  </tbody>\n",
       "</table>\n",
       "</div>"
      ],
      "text/plain": [
       "   imdb_rating  metascore    votes  revenue_(millions)  runtime primary_genre\n",
       "0          8.7         73  1900000               463.5      136        Action\n",
       "1          8.0         88   800000                 7.5      113         Drama\n",
       "2          8.9         94  1900000               213.9      154         Crime\n",
       "3          7.8         83  1200000              2787.9      162        Action\n",
       "4          8.1         73   600000                56.3      148     Adventure"
      ]
     },
     "execution_count": 65,
     "metadata": {},
     "output_type": "execute_result"
    }
   ],
   "source": [
    "# Slice relevant columns\n",
    "cult_features = cult_classics[['imdb_rating', 'metascore', 'votes', 'revenue_(millions)', 'runtime', 'primary_genre']]\n",
    "\n",
    "# Preview the dataset\n",
    "cult_features.head()"
   ]
  },
  {
   "cell_type": "markdown",
   "id": "f2098762",
   "metadata": {},
   "source": [
    "We have already chosen the columns we want to use and so in the next step, we are encoding the only categorical data in our dataset. This is a crucial step in preparing our data for clustering because we can't use words like 'Drama' in clustering.\n",
    "\n",
    "We are converting the `primary_genre` into dummy variables using the .get_dummies() method from pandas. Where the value is 'drama' in the column, this will turn it into a column called `primary_genre_drama` where if true, the value will be 1 and if false the value will be 0."
   ]
  },
  {
   "cell_type": "code",
   "execution_count": 66,
   "id": "2f770070",
   "metadata": {},
   "outputs": [
    {
     "data": {
      "text/html": [
       "<div>\n",
       "<style scoped>\n",
       "    .dataframe tbody tr th:only-of-type {\n",
       "        vertical-align: middle;\n",
       "    }\n",
       "\n",
       "    .dataframe tbody tr th {\n",
       "        vertical-align: top;\n",
       "    }\n",
       "\n",
       "    .dataframe thead th {\n",
       "        text-align: right;\n",
       "    }\n",
       "</style>\n",
       "<table border=\"1\" class=\"dataframe\">\n",
       "  <thead>\n",
       "    <tr style=\"text-align: right;\">\n",
       "      <th></th>\n",
       "      <th>imdb_rating</th>\n",
       "      <th>metascore</th>\n",
       "      <th>votes</th>\n",
       "      <th>revenue_(millions)</th>\n",
       "      <th>runtime</th>\n",
       "      <th>primary_genre_Adventure</th>\n",
       "      <th>primary_genre_Comedy</th>\n",
       "      <th>primary_genre_Crime</th>\n",
       "      <th>primary_genre_Drama</th>\n",
       "    </tr>\n",
       "  </thead>\n",
       "  <tbody>\n",
       "    <tr>\n",
       "      <th>0</th>\n",
       "      <td>8.7</td>\n",
       "      <td>73</td>\n",
       "      <td>1900000</td>\n",
       "      <td>463.5</td>\n",
       "      <td>136</td>\n",
       "      <td>0</td>\n",
       "      <td>0</td>\n",
       "      <td>0</td>\n",
       "      <td>0</td>\n",
       "    </tr>\n",
       "    <tr>\n",
       "      <th>1</th>\n",
       "      <td>8.0</td>\n",
       "      <td>88</td>\n",
       "      <td>800000</td>\n",
       "      <td>7.5</td>\n",
       "      <td>113</td>\n",
       "      <td>0</td>\n",
       "      <td>0</td>\n",
       "      <td>0</td>\n",
       "      <td>1</td>\n",
       "    </tr>\n",
       "    <tr>\n",
       "      <th>2</th>\n",
       "      <td>8.9</td>\n",
       "      <td>94</td>\n",
       "      <td>1900000</td>\n",
       "      <td>213.9</td>\n",
       "      <td>154</td>\n",
       "      <td>0</td>\n",
       "      <td>0</td>\n",
       "      <td>1</td>\n",
       "      <td>0</td>\n",
       "    </tr>\n",
       "    <tr>\n",
       "      <th>3</th>\n",
       "      <td>7.8</td>\n",
       "      <td>83</td>\n",
       "      <td>1200000</td>\n",
       "      <td>2787.9</td>\n",
       "      <td>162</td>\n",
       "      <td>0</td>\n",
       "      <td>0</td>\n",
       "      <td>0</td>\n",
       "      <td>0</td>\n",
       "    </tr>\n",
       "    <tr>\n",
       "      <th>4</th>\n",
       "      <td>8.1</td>\n",
       "      <td>73</td>\n",
       "      <td>600000</td>\n",
       "      <td>56.3</td>\n",
       "      <td>148</td>\n",
       "      <td>1</td>\n",
       "      <td>0</td>\n",
       "      <td>0</td>\n",
       "      <td>0</td>\n",
       "    </tr>\n",
       "  </tbody>\n",
       "</table>\n",
       "</div>"
      ],
      "text/plain": [
       "   imdb_rating  metascore    votes  revenue_(millions)  runtime  \\\n",
       "0          8.7         73  1900000               463.5      136   \n",
       "1          8.0         88   800000                 7.5      113   \n",
       "2          8.9         94  1900000               213.9      154   \n",
       "3          7.8         83  1200000              2787.9      162   \n",
       "4          8.1         73   600000                56.3      148   \n",
       "\n",
       "   primary_genre_Adventure  primary_genre_Comedy  primary_genre_Crime  \\\n",
       "0                        0                     0                    0   \n",
       "1                        0                     0                    0   \n",
       "2                        0                     0                    1   \n",
       "3                        0                     0                    0   \n",
       "4                        1                     0                    0   \n",
       "\n",
       "   primary_genre_Drama  \n",
       "0                    0  \n",
       "1                    1  \n",
       "2                    0  \n",
       "3                    0  \n",
       "4                    0  "
      ]
     },
     "execution_count": 66,
     "metadata": {},
     "output_type": "execute_result"
    }
   ],
   "source": [
    "# Convert primary_genre into dummy variables\n",
    "# We are using the drop_first = True to avoid redundant info\n",
    "encoded_features = pd.get_dummies(cult_features, columns=['primary_genre'], drop_first= True)\n",
    "\n",
    "# Preview dataset\n",
    "encoded_features.head()"
   ]
  },
  {
   "cell_type": "markdown",
   "id": "137edb8e",
   "metadata": {},
   "source": [
    "Next we are going to standardize/scale our data. This is because the KMeans clustering uses distance to form clusters. In our dataset we have a column, `votes`, is much larer in scale than every other column, this will dominate the clustering.\n",
    "\n",
    "Standardizing the columns will make them have a mean of 0 and a standard deviation of 1."
   ]
  },
  {
   "cell_type": "code",
   "execution_count": 67,
   "id": "20d01890",
   "metadata": {},
   "outputs": [],
   "source": [
    "# Standardize the dataset.\n",
    "# This will turn the encoded_features dataset to a numerical matrix.\n",
    "scaler = StandardScaler()\n",
    "X_scaled = scaler.fit_transform(encoded_features)\n"
   ]
  },
  {
   "cell_type": "markdown",
   "id": "6f59d648",
   "metadata": {},
   "source": [
    "### Analyzing the data.\n",
    "In this section we are going to cluster the data using the KMean clustering function based on the features we've prepared above. Clustering will help us find groups of movies that share patterns. This process is going to involve;\n",
    "- choosing the best number of clusters\n",
    "\n",
    "- run KMeans \n",
    "\n",
    "- add the cluster labels back to the original data\n",
    "\n",
    "- interpret what each cluster means\n",
    "\n",
    "#### Choosing the best number of clusters.\n",
    "In this part we'll be trying multiple values of k, that is number of clusters, and plot the inertia, how tight the groups are. We want a point where adding more clusters doesn't help much, this is the elbow method."
   ]
  },
  {
   "cell_type": "code",
   "execution_count": 68,
   "id": "489fea85",
   "metadata": {},
   "outputs": [
    {
     "data": {
      "image/png": "[encoded data removed]",
      "text/plain": [
       "<Figure size 432x288 with 1 Axes>"
      ]
     },
     "metadata": {},
     "output_type": "display_data"
    }
   ],
   "source": [
    "# Choose the best number of clusters.\n",
    "inertia = []\n",
    "k_range = range(1, 10)\n",
    "\n",
    "for k in k_range:\n",
    "    kmeans = KMeans(n_clusters=k, random_state=42)\n",
    "    kmeans.fit(X_scaled)\n",
    "    inertia.append(kmeans.inertia_)\n",
    "\n",
    "# Plotting the elbow curve\n",
    "plt.plot(k_range, inertia, marker='o')\n",
    "plt.xlabel('Number of Clusters (k)')\n",
    "plt.ylabel('Inertia')\n",
    "plt.title('Elbow Method for Optimal k')\n",
    "plt.grid(True)\n",
    "plt.show()"
   ]
  },
  {
   "cell_type": "markdown",
   "id": "64c6ed46",
   "metadata": {},
   "source": [
    "Inertia measures how far each point is from the cluster's centroid, center of the cluster. The lower the distance, the better however, if the distance is too low it might mean overfitting. Through the elbow method, we choose to have 3 cluster points.\n",
    "\n",
    "#### Running KMeans and Adding the clusters to the original data.\n",
    "In the code above we have performed an elbow method and have decided to have 3 cluster groups. In the next code we will be running the KMeans and adding the clusters to the original dataset."
   ]
  },
  {
   "cell_type": "code",
   "execution_count": 82,
   "id": "f1382b0c",
   "metadata": {},
   "outputs": [
    {
     "data": {
      "text/html": [
       "<div>\n",
       "<style scoped>\n",
       "    .dataframe tbody tr th:only-of-type {\n",
       "        vertical-align: middle;\n",
       "    }\n",
       "\n",
       "    .dataframe tbody tr th {\n",
       "        vertical-align: top;\n",
       "    }\n",
       "\n",
       "    .dataframe thead th {\n",
       "        text-align: right;\n",
       "    }\n",
       "</style>\n",
       "<table border=\"1\" class=\"dataframe\">\n",
       "  <thead>\n",
       "    <tr style=\"text-align: right;\">\n",
       "      <th></th>\n",
       "      <th>title</th>\n",
       "      <th>genres</th>\n",
       "      <th>runtime</th>\n",
       "      <th>release_year</th>\n",
       "      <th>imdb_rating</th>\n",
       "      <th>metascore</th>\n",
       "      <th>votes</th>\n",
       "      <th>revenue_(millions)</th>\n",
       "      <th>keywords</th>\n",
       "      <th>primary_genre</th>\n",
       "      <th>cluster</th>\n",
       "    </tr>\n",
       "  </thead>\n",
       "  <tbody>\n",
       "    <tr>\n",
       "      <th>0</th>\n",
       "      <td>The Matrix</td>\n",
       "      <td>Action, Sci-Fi</td>\n",
       "      <td>136</td>\n",
       "      <td>1999</td>\n",
       "      <td>8.7</td>\n",
       "      <td>73</td>\n",
       "      <td>1900000</td>\n",
       "      <td>463.5</td>\n",
       "      <td>virtual reality, dystopia</td>\n",
       "      <td>Action</td>\n",
       "      <td>0</td>\n",
       "    </tr>\n",
       "    <tr>\n",
       "      <th>1</th>\n",
       "      <td>Donnie Darko</td>\n",
       "      <td>Drama, Mystery</td>\n",
       "      <td>113</td>\n",
       "      <td>2001</td>\n",
       "      <td>8.0</td>\n",
       "      <td>88</td>\n",
       "      <td>800000</td>\n",
       "      <td>7.5</td>\n",
       "      <td>time travel, alternate universe</td>\n",
       "      <td>Drama</td>\n",
       "      <td>1</td>\n",
       "    </tr>\n",
       "    <tr>\n",
       "      <th>2</th>\n",
       "      <td>Pulp Fiction</td>\n",
       "      <td>Crime, Drama</td>\n",
       "      <td>154</td>\n",
       "      <td>1994</td>\n",
       "      <td>8.9</td>\n",
       "      <td>94</td>\n",
       "      <td>1900000</td>\n",
       "      <td>213.9</td>\n",
       "      <td>nonlinear, hitman</td>\n",
       "      <td>Crime</td>\n",
       "      <td>0</td>\n",
       "    </tr>\n",
       "    <tr>\n",
       "      <th>3</th>\n",
       "      <td>Avatar</td>\n",
       "      <td>Action, Adventure</td>\n",
       "      <td>162</td>\n",
       "      <td>2009</td>\n",
       "      <td>7.8</td>\n",
       "      <td>83</td>\n",
       "      <td>1200000</td>\n",
       "      <td>2787.9</td>\n",
       "      <td>alien, sci-fi</td>\n",
       "      <td>Action</td>\n",
       "      <td>0</td>\n",
       "    </tr>\n",
       "    <tr>\n",
       "      <th>4</th>\n",
       "      <td>Into the Wild</td>\n",
       "      <td>Adventure, Biography</td>\n",
       "      <td>148</td>\n",
       "      <td>2007</td>\n",
       "      <td>8.1</td>\n",
       "      <td>73</td>\n",
       "      <td>600000</td>\n",
       "      <td>56.3</td>\n",
       "      <td>nature, escape</td>\n",
       "      <td>Adventure</td>\n",
       "      <td>0</td>\n",
       "    </tr>\n",
       "  </tbody>\n",
       "</table>\n",
       "</div>"
      ],
      "text/plain": [
       "           title                genres  runtime  release_year  imdb_rating  \\\n",
       "0     The Matrix        Action, Sci-Fi      136          1999          8.7   \n",
       "1   Donnie Darko        Drama, Mystery      113          2001          8.0   \n",
       "2   Pulp Fiction          Crime, Drama      154          1994          8.9   \n",
       "3         Avatar     Action, Adventure      162          2009          7.8   \n",
       "4  Into the Wild  Adventure, Biography      148          2007          8.1   \n",
       "\n",
       "   metascore    votes  revenue_(millions)                         keywords  \\\n",
       "0         73  1900000               463.5        virtual reality, dystopia   \n",
       "1         88   800000                 7.5  time travel, alternate universe   \n",
       "2         94  1900000               213.9                nonlinear, hitman   \n",
       "3         83  1200000              2787.9                    alien, sci-fi   \n",
       "4         73   600000                56.3                   nature, escape   \n",
       "\n",
       "  primary_genre  cluster  \n",
       "0        Action        0  \n",
       "1         Drama        1  \n",
       "2         Crime        0  \n",
       "3        Action        0  \n",
       "4     Adventure        0  "
      ]
     },
     "execution_count": 82,
     "metadata": {},
     "output_type": "execute_result"
    }
   ],
   "source": [
    "# Final clustering\n",
    "kmeans = KMeans(n_clusters= 3, random_state= 42)\n",
    "clusters = kmeans.fit_predict(X_scaled)\n",
    "\n",
    "# Add cluster labels to the original dataset\n",
    "cult_classics['cluster'] = clusters\n",
    "\n",
    "# preview the dataset\n",
    "cult_classics.head()"
   ]
  },
  {
   "cell_type": "markdown",
   "id": "389c9af3",
   "metadata": {},
   "source": [
    "We have added the clusters back to the original dataset and now we will be using the dataset to analyze each cluster to find out what genres dominate each cluster, what are their mean revenue? Mean rating? and all of that.\n",
    "\n",
    "The first step is to discover how many films each cluster contains. We will use the .value_count() method, this is crusial as it will help us know where most cult films lie when it comes to genre."
   ]
  },
  {
   "cell_type": "code",
   "execution_count": null,
   "id": "cb2e9d12",
   "metadata": {},
   "outputs": [
    {
     "data": {
      "text/plain": [
       "0    5\n",
       "1    4\n",
       "2    1\n",
       "Name: cluster, dtype: int64"
      ]
     },
     "execution_count": 83,
     "metadata": {},
     "output_type": "execute_result"
    }
   ],
   "source": [
    "# Count how many films are in clusters.\n",
    "cult_classics['cluster'].value_counts()"
   ]
  },
  {
   "cell_type": "markdown",
   "id": "e090c2c1",
   "metadata": {},
   "source": [
    "Next we are going to look at what group has the most revenue, rating, votes, metascore etc. This will help us identify the ideal group where cult films succeed.\n",
    "\n",
    "We will be using pandas .groupby() and .mean() methods to group the clusters by their means. "
   ]
  },
  {
   "cell_type": "code",
   "execution_count": null,
   "id": "7864b98d",
   "metadata": {},
   "outputs": [
    {
     "data": {
      "text/html": [
       "<div>\n",
       "<style scoped>\n",
       "    .dataframe tbody tr th:only-of-type {\n",
       "        vertical-align: middle;\n",
       "    }\n",
       "\n",
       "    .dataframe tbody tr th {\n",
       "        vertical-align: top;\n",
       "    }\n",
       "\n",
       "    .dataframe thead th {\n",
       "        text-align: right;\n",
       "    }\n",
       "</style>\n",
       "<table border=\"1\" class=\"dataframe\">\n",
       "  <thead>\n",
       "    <tr style=\"text-align: right;\">\n",
       "      <th></th>\n",
       "      <th>runtime</th>\n",
       "      <th>release_year</th>\n",
       "      <th>imdb_rating</th>\n",
       "      <th>metascore</th>\n",
       "      <th>votes</th>\n",
       "      <th>revenue_(millions)</th>\n",
       "    </tr>\n",
       "    <tr>\n",
       "      <th>cluster</th>\n",
       "      <th></th>\n",
       "      <th></th>\n",
       "      <th></th>\n",
       "      <th></th>\n",
       "      <th></th>\n",
       "      <th></th>\n",
       "    </tr>\n",
       "  </thead>\n",
       "  <tbody>\n",
       "    <tr>\n",
       "      <th>0</th>\n",
       "      <td>147.8</td>\n",
       "      <td>2001.6</td>\n",
       "      <td>8.46</td>\n",
       "      <td>77.8</td>\n",
       "      <td>1480000.0</td>\n",
       "      <td>724.50</td>\n",
       "    </tr>\n",
       "    <tr>\n",
       "      <th>1</th>\n",
       "      <td>113.5</td>\n",
       "      <td>2008.0</td>\n",
       "      <td>7.65</td>\n",
       "      <td>82.5</td>\n",
       "      <td>600000.0</td>\n",
       "      <td>51.05</td>\n",
       "    </tr>\n",
       "    <tr>\n",
       "      <th>2</th>\n",
       "      <td>99.0</td>\n",
       "      <td>2003.0</td>\n",
       "      <td>3.60</td>\n",
       "      <td>9.0</td>\n",
       "      <td>80000.0</td>\n",
       "      <td>1.80</td>\n",
       "    </tr>\n",
       "  </tbody>\n",
       "</table>\n",
       "</div>"
      ],
      "text/plain": [
       "         runtime  release_year  imdb_rating  metascore      votes  \\\n",
       "cluster                                                             \n",
       "0          147.8        2001.6         8.46       77.8  1480000.0   \n",
       "1          113.5        2008.0         7.65       82.5   600000.0   \n",
       "2           99.0        2003.0         3.60        9.0    80000.0   \n",
       "\n",
       "         revenue_(millions)  \n",
       "cluster                      \n",
       "0                    724.50  \n",
       "1                     51.05  \n",
       "2                      1.80  "
      ]
     },
     "execution_count": 84,
     "metadata": {},
     "output_type": "execute_result"
    }
   ],
   "source": [
    "# Statistical analysis of the clusters\n",
    "cult_classics.groupby('cluster').mean(numeric_only= True)"
   ]
  },
  {
   "cell_type": "markdown",
   "id": "46a4ee57",
   "metadata": {},
   "source": [
    "- **Cluster 0** - The film genres that fall into this cluster have high ratings and high revenue, which could only mean that these are mainstream blockbusters. They also have high number of votes. This means that genres in this cluster are not only successful and enjoyed by the audience, but that they are also viewed highly by critics and are really popular.\n",
    "\n",
    "- **Cluster 1** - The film genres in this cluster perform moderately, having an average rating of 7.6 which is great and an even greater metascore, however, the revenue is pretty low and does not reflect the ratings and metascore. In a nutshell, this cluster contains underrated gems which is defined by the fact the the films are enjoyed by both the audience and the critics but earn low revenue.\n",
    "\n",
    "- **Cluster 2** - This cluster contains film genres that do not do well as cults, this is defined by low ratings, metascore and revenue.\n",
    "\n",
    "#### CLuster vs IMDB_rating.\n",
    "We are analyzing what cluster contains genres most enjoyed by the audience."
   ]
  },
  {
   "cell_type": "code",
   "execution_count": null,
   "id": "0795b4ce",
   "metadata": {},
   "outputs": [
    {
     "data": {
      "image/png": "[encoded data removed]",
      "text/plain": [
       "<Figure size 432x288 with 1 Axes>"
      ]
     },
     "metadata": {},
     "output_type": "display_data"
    }
   ],
   "source": [
    "# Plotting cluster vs imdb_rating\n",
    "sns.boxplot(x= 'cluster', y= 'imdb_rating', data= cult_classics)\n",
    "plt.title('IMDB Ratings by Cluster')\n",
    "plt.show()"
   ]
  },
  {
   "cell_type": "markdown",
   "id": "efbd0323",
   "metadata": {},
   "source": [
    "Genres in **cluster 0** are mostly enjoyed by the audience. This helps us know where most cult classics lie. Additionally, genres in **cluster 1** are also enjoyed by the audience. Genres in **cluster 2** are not really enjoyed by the audience.\n",
    "\n",
    "#### Analyze genres in each plot\n",
    "We will be trying to figure out what genres lie in each cluster, to know what combinations work best."
   ]
  },
  {
   "cell_type": "code",
   "execution_count": 86,
   "id": "8d9e12b6",
   "metadata": {},
   "outputs": [
    {
     "data": {
      "image/png": "[encoded data removed]",
      "text/plain": [
       "<Figure size 720x360 with 1 Axes>"
      ]
     },
     "metadata": {},
     "output_type": "display_data"
    }
   ],
   "source": [
    "# Countplot of genres in each cluster\n",
    "plt.figure(figsize=(10, 5))\n",
    "sns.countplot(data=cult_classics, x='primary_genre', hue='cluster')\n",
    "plt.title('Primary Genre by Cluster')\n",
    "plt.xticks(rotation=45)\n",
    "plt.tight_layout()\n",
    "plt.show()"
   ]
  },
  {
   "cell_type": "code",
   "execution_count": null,
   "id": "b4476106",
   "metadata": {},
   "outputs": [],
   "source": [
    "cult_classics"
   ]
  },
  {
   "cell_type": "markdown",
   "id": "f2bf41ae",
   "metadata": {},
   "source": [
    "Cult films that contain Action, Drama, Crime and Adventure genres make the best films in box office, followed closely by cult films in the Comedy genre. However, cult films that contain soem drama should be examined well as the genre is in all three clusters.\n",
    "\n",
    "It is important to note that **cluster 0** mostly actions and **cluster 1** is mostly dramas and comedies.  "
   ]
  },
  {
   "cell_type": "markdown",
   "id": "0939c457",
   "metadata": {},
   "source": [
    "## **Findings and Recommendations.**\n",
    "### Findings.\n",
    "- We found that cluster 0 contains genres that are high-budget blockbusters, they have high revenue, high votes. It also mostly contains actions\n",
    "\n",
    "- Cluster 1 contains critically acclaimed but niche, they have high ratings but low revenue. These are the most enjoyed films. It is mostly comedies and dramas.\n",
    "\n",
    "- Cluster 2 contains very low everything, it would not be wise to produce movies in this cluster.\n",
    "\n",
    "### Recommendations.\n",
    "Cult classics often appear in clusters where metascore and revenue are high as well as where ratings are high and revenue are moderate. The "
   ]
  }
 ],
 "metadata": {
  "kernelspec": {
   "display_name": "learn-env",
   "language": "python",
   "name": "python3"
  },
  "language_info": {
   "codemirror_mode": {
    "name": "ipython",
    "version": 3
   },
   "file_extension": ".py",
   "mimetype": "text/x-python",
   "name": "python",
   "nbconvert_exporter": "python",
   "pygments_lexer": "ipython3",
   "version": "3.8.5"
  }
 },
 "nbformat": 4,
 "nbformat_minor": 5
}
