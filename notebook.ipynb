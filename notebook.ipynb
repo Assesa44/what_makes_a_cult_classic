{
 "cells": [
  {
   "cell_type": "markdown",
   "id": "0660c3bf",
   "metadata": {},
   "source": [
    "# WHAT MAKES A CULT CLASSIC?\n",
    "### **Project Overview.**\n",
    "Stilinski movie studio is a production company that produces Horror films in Africa. Due to its recent success, the company has felt the need to diversify its portfolio and has identified cult films as an exciting new production branch. However, due to the fact that they have only produced horror films and have no idea on anything about cult films, they have commission us to find out what makes a cult classic.\n",
    "\n",
    "This project is going to analyze past cult films and shows performances over the years and identify patterns or aspects that made them stand out in the box office. Our findings will help stakeholders in the company make informed decisions in the next crucial steps moving forward.\n",
    "\n",
    "## **Business Understanding.**\n",
    "The film industry as a whole involves understanding how films are developed, financed, produced, distributed and monetized. In order to make informed decisions on those areas, we are going to explore the patterns or aspects of cult films currently doing well, and let our findings guide our recommendations. \n",
    "\n",
    "The industry is characterized by:\n",
    "\n",
    "- High upfront investment with uncertain returns.\n",
    "\n",
    "- Global and local market reach.\n",
    "\n",
    "- Revenue from multiple channels, including;\n",
    "\n",
    "  - Box office ticket sales\n",
    "\n",
    "  - Streaming\n",
    "\n",
    "  - DVD/Blu-ray sales\n",
    "\n",
    "### Problem Statement.\n",
    "Stilinski Company, having operated outside of cult film production but also inside of the film industry, is in a very intresting position as its journeying into a new, yet not very new territory. It's knowledge of how movie production works places it ahead and maybe even in a unique position as intergrating the world of horror and cult may give birt to something the audience has actually been waiting for.\n",
    "\n",
    "This project seeks to give answers to the following question;\n",
    "\n",
    "1. What makes a cult classic?\n",
    "\n",
    "### Project Objectives.\n",
    "- Strong Box Office Performance.\n",
    "\n",
    "- Market Penetration & Audience Reach.\n",
    "\n",
    "- Consistently producing quality, successful content.\n",
    "\n",
    "- Having different revenue Streams beyond box office earnings.\n",
    "\n",
    "- Films should receive favorable reviews and ratings on platforms like IMDb, Rotten Tomatoes, and Metacritic.\n",
    "\n",
    "- Awards and Industry Recognition.\n",
    "\n",
    "### Stakeholders.\n",
    "\n",
    "1. Studio executive - Primary decision maker\n",
    "\n",
    "2. Marketing team - Plan on promotions and time for release\n",
    "\n",
    "3. Finance team - Budget planning\n",
    "\n",
    "4. Production team - Content creation\n",
    "\n",
    "5. Investors - Provides fundings for the productions.\n",
    "\n",
    "### Project plan.\n"
   ]
  },
  {
   "cell_type": "markdown",
   "id": "606f54a6",
   "metadata": {},
   "source": [
    "## **Data Understanding.**\n",
    "### Data source.\n",
    "Under the file path `Data/`, we have a cult movies dataset compiled from different movie websites by the use of Artificial Intelligence (AI). The dataset, `cult_classics_dataset.csv`, contains data from the Internet Movie Database (IMDB) giving us access to movie titles, their genres, ratings, revenues and many more from the year 1994 to 2014.\n",
    "\n",
    "### Why is the dataset suitable for this project?\n",
    "In the project overview, we mention that this project seeks to understand what makes a cult film/show a classic. This dataset contains information on cult films that will help us understand, through our analysis, what really makes a cult classic through different film aspects.\n",
    "\n",
    "- This dataset is suitable for the project as it allows analysis of past movie performance data, including audience ratings, and box office numbers, to create models that predict the potential success of upcoming films. Also, community reviews and ratings reveal audience tastes and preferences, which can help the studio tailor their content to appeal to specific demographics and genres. \n",
    "\n",
    "- The database provides a wealth of data for market research, allowing us to understand trends, competitor activities, and potential opportunities.\n",
    "\n",
    "### Exploring the dataset for understanding.\n",
    "#### Importing dependancies and loading the dataset.\n",
    "To work smoothly and efficiently, we are using python libraries for our analysis and other things.\n",
    "\n",
    "We are using the pandas' `read_csv()` method to efficiently load the dataset into the notebook."
   ]
  },
  {
   "cell_type": "code",
   "execution_count": null,
   "id": "ff6f09ba",
   "metadata": {},
   "outputs": [],
   "source": [
    "# Import all the dependencies needed for this project.\n",
    "import pandas as pd\n",
    "import numpy as np\n",
    "import matplotlib.pyplot as plt\n",
    "import seaborn as sns\n",
    "\n",
    "# Load the dataset using pandas\n",
    "cult_classics = pd.read_csv('Data/cult_classics_dataset.csv', sep= ',')"
   ]
  },
  {
   "cell_type": "markdown",
   "id": "00fb70f2",
   "metadata": {},
   "source": [
    "#### Qualitative Analysis.\n",
    "In this part we are exploring the dataset, trying to understand its qualities and its structure. We are also looking to flag any data quality issues that may impact our analysis negatively. We will be looking at the first few rows and also at the dataset's summary."
   ]
  },
  {
   "cell_type": "code",
   "execution_count": null,
   "id": "26cc2944",
   "metadata": {},
   "outputs": [
    {
     "data": {
      "text/html": [
       "<div>\n",
       "<style scoped>\n",
       "    .dataframe tbody tr th:only-of-type {\n",
       "        vertical-align: middle;\n",
       "    }\n",
       "\n",
       "    .dataframe tbody tr th {\n",
       "        vertical-align: top;\n",
       "    }\n",
       "\n",
       "    .dataframe thead th {\n",
       "        text-align: right;\n",
       "    }\n",
       "</style>\n",
       "<table border=\"1\" class=\"dataframe\">\n",
       "  <thead>\n",
       "    <tr style=\"text-align: right;\">\n",
       "      <th></th>\n",
       "      <th>Title</th>\n",
       "      <th>Genres</th>\n",
       "      <th>Runtime</th>\n",
       "      <th>Release Year</th>\n",
       "      <th>IMDB Rating</th>\n",
       "      <th>Metascore</th>\n",
       "      <th>Votes</th>\n",
       "      <th>Revenue (Millions)</th>\n",
       "      <th>Keywords</th>\n",
       "    </tr>\n",
       "  </thead>\n",
       "  <tbody>\n",
       "    <tr>\n",
       "      <th>0</th>\n",
       "      <td>The Matrix</td>\n",
       "      <td>Action, Sci-Fi</td>\n",
       "      <td>136</td>\n",
       "      <td>1999</td>\n",
       "      <td>8.7</td>\n",
       "      <td>73</td>\n",
       "      <td>1900000</td>\n",
       "      <td>463.5</td>\n",
       "      <td>virtual reality, dystopia</td>\n",
       "    </tr>\n",
       "    <tr>\n",
       "      <th>1</th>\n",
       "      <td>Donnie Darko</td>\n",
       "      <td>Drama, Mystery</td>\n",
       "      <td>113</td>\n",
       "      <td>2001</td>\n",
       "      <td>8.0</td>\n",
       "      <td>88</td>\n",
       "      <td>800000</td>\n",
       "      <td>7.5</td>\n",
       "      <td>time travel, alternate universe</td>\n",
       "    </tr>\n",
       "    <tr>\n",
       "      <th>2</th>\n",
       "      <td>Pulp Fiction</td>\n",
       "      <td>Crime, Drama</td>\n",
       "      <td>154</td>\n",
       "      <td>1994</td>\n",
       "      <td>8.9</td>\n",
       "      <td>94</td>\n",
       "      <td>1900000</td>\n",
       "      <td>213.9</td>\n",
       "      <td>nonlinear, hitman</td>\n",
       "    </tr>\n",
       "    <tr>\n",
       "      <th>3</th>\n",
       "      <td>Avatar</td>\n",
       "      <td>Action, Adventure</td>\n",
       "      <td>162</td>\n",
       "      <td>2009</td>\n",
       "      <td>7.8</td>\n",
       "      <td>83</td>\n",
       "      <td>1200000</td>\n",
       "      <td>2787.9</td>\n",
       "      <td>alien, sci-fi</td>\n",
       "    </tr>\n",
       "    <tr>\n",
       "      <th>4</th>\n",
       "      <td>Into the Wild</td>\n",
       "      <td>Adventure, Biography</td>\n",
       "      <td>148</td>\n",
       "      <td>2007</td>\n",
       "      <td>8.1</td>\n",
       "      <td>73</td>\n",
       "      <td>600000</td>\n",
       "      <td>56.3</td>\n",
       "      <td>nature, escape</td>\n",
       "    </tr>\n",
       "  </tbody>\n",
       "</table>\n",
       "</div>"
      ],
      "text/plain": [
       "           Title                Genres  Runtime  Release Year  IMDB Rating  \\\n",
       "0     The Matrix        Action, Sci-Fi      136          1999          8.7   \n",
       "1   Donnie Darko        Drama, Mystery      113          2001          8.0   \n",
       "2   Pulp Fiction          Crime, Drama      154          1994          8.9   \n",
       "3         Avatar     Action, Adventure      162          2009          7.8   \n",
       "4  Into the Wild  Adventure, Biography      148          2007          8.1   \n",
       "\n",
       "   Metascore    Votes  Revenue (Millions)                         Keywords  \n",
       "0         73  1900000               463.5        virtual reality, dystopia  \n",
       "1         88   800000                 7.5  time travel, alternate universe  \n",
       "2         94  1900000               213.9                nonlinear, hitman  \n",
       "3         83  1200000              2787.9                    alien, sci-fi  \n",
       "4         73   600000                56.3                   nature, escape  "
      ]
     },
     "execution_count": 3,
     "metadata": {},
     "output_type": "execute_result"
    }
   ],
   "source": [
    "# Get a preview of what we are working with, we are using the .head() method.\n",
    "cult_classics.head()"
   ]
  },
  {
   "cell_type": "markdown",
   "id": "59917f7b",
   "metadata": {},
   "source": [
    "From the first preview, we see that the data has 9 columns out of which 3 columns contain values stored as objcts and the rest as numerical datasets. However, we cannot be certain. In the next code we are using the .info() method to give us a consice summary of the data."
   ]
  },
  {
   "cell_type": "code",
   "execution_count": 4,
   "id": "4ace95ac",
   "metadata": {},
   "outputs": [
    {
     "name": "stdout",
     "output_type": "stream",
     "text": [
      "<class 'pandas.core.frame.DataFrame'>\n",
      "RangeIndex: 10 entries, 0 to 9\n",
      "Data columns (total 9 columns):\n",
      " #   Column              Non-Null Count  Dtype  \n",
      "---  ------              --------------  -----  \n",
      " 0   Title               10 non-null     object \n",
      " 1   Genres              10 non-null     object \n",
      " 2   Runtime             10 non-null     int64  \n",
      " 3   Release Year        10 non-null     int64  \n",
      " 4   IMDB Rating         10 non-null     float64\n",
      " 5   Metascore           10 non-null     int64  \n",
      " 6   Votes               10 non-null     int64  \n",
      " 7   Revenue (Millions)  10 non-null     float64\n",
      " 8   Keywords            10 non-null     object \n",
      "dtypes: float64(2), int64(4), object(3)\n",
      "memory usage: 848.0+ bytes\n"
     ]
    }
   ],
   "source": [
    "# This will help us understand the structure of the data\n",
    "# How many rows, columns, non null counts, datatypes etc. does the dataset have?\n",
    "\n",
    "cult_classics.info()"
   ]
  },
  {
   "cell_type": "code",
   "execution_count": null,
   "id": "5c85f6c0",
   "metadata": {},
   "outputs": [
    {
     "data": {
      "text/plain": [
       "0"
      ]
     },
     "execution_count": 5,
     "metadata": {},
     "output_type": "execute_result"
    }
   ],
   "source": [
    "# Check for duplicates\n",
    "cult_classics.duplicated().sum()"
   ]
  },
  {
   "cell_type": "markdown",
   "id": "348a090e",
   "metadata": {},
   "source": [
    "The dataset contains information stored in 9 columns and 10 rows. The values are stored as objects, floats and integers. The dataset is also mostly clean with all columns having the same non null counts as the number of rows stated and contains no duplicated records.\n",
    "\n",
    "#### Quantitative Analysis.\n",
    "Here we will be looking at the quantitative summary of the dataset including the numerical data's measures of central tendencies, measures of spread and some aggregate functions."
   ]
  },
  {
   "cell_type": "code",
   "execution_count": null,
   "id": "cff7e67e",
   "metadata": {},
   "outputs": [
    {
     "data": {
      "text/html": [
       "<div>\n",
       "<style scoped>\n",
       "    .dataframe tbody tr th:only-of-type {\n",
       "        vertical-align: middle;\n",
       "    }\n",
       "\n",
       "    .dataframe tbody tr th {\n",
       "        vertical-align: top;\n",
       "    }\n",
       "\n",
       "    .dataframe thead th {\n",
       "        text-align: right;\n",
       "    }\n",
       "</style>\n",
       "<table border=\"1\" class=\"dataframe\">\n",
       "  <thead>\n",
       "    <tr style=\"text-align: right;\">\n",
       "      <th></th>\n",
       "      <th>Runtime</th>\n",
       "      <th>Release Year</th>\n",
       "      <th>IMDB Rating</th>\n",
       "      <th>Metascore</th>\n",
       "      <th>Votes</th>\n",
       "      <th>Revenue (Millions)</th>\n",
       "    </tr>\n",
       "  </thead>\n",
       "  <tbody>\n",
       "    <tr>\n",
       "      <th>count</th>\n",
       "      <td>10.000000</td>\n",
       "      <td>10.000000</td>\n",
       "      <td>10.000000</td>\n",
       "      <td>10.000000</td>\n",
       "      <td>1.000000e+01</td>\n",
       "      <td>10.00000</td>\n",
       "    </tr>\n",
       "    <tr>\n",
       "      <th>mean</th>\n",
       "      <td>129.200000</td>\n",
       "      <td>2004.300000</td>\n",
       "      <td>7.650000</td>\n",
       "      <td>72.800000</td>\n",
       "      <td>9.880000e+05</td>\n",
       "      <td>382.85000</td>\n",
       "    </tr>\n",
       "    <tr>\n",
       "      <th>std</th>\n",
       "      <td>22.552654</td>\n",
       "      <td>6.447222</td>\n",
       "      <td>1.542905</td>\n",
       "      <td>24.733243</td>\n",
       "      <td>6.670799e+05</td>\n",
       "      <td>856.06742</td>\n",
       "    </tr>\n",
       "    <tr>\n",
       "      <th>min</th>\n",
       "      <td>96.000000</td>\n",
       "      <td>1994.000000</td>\n",
       "      <td>3.600000</td>\n",
       "      <td>9.000000</td>\n",
       "      <td>8.000000e+04</td>\n",
       "      <td>1.80000</td>\n",
       "    </tr>\n",
       "    <tr>\n",
       "      <th>25%</th>\n",
       "      <td>114.500000</td>\n",
       "      <td>1999.500000</td>\n",
       "      <td>7.725000</td>\n",
       "      <td>67.750000</td>\n",
       "      <td>5.250000e+05</td>\n",
       "      <td>46.42500</td>\n",
       "    </tr>\n",
       "    <tr>\n",
       "      <th>50%</th>\n",
       "      <td>131.000000</td>\n",
       "      <td>2003.500000</td>\n",
       "      <td>8.000000</td>\n",
       "      <td>78.000000</td>\n",
       "      <td>7.000000e+05</td>\n",
       "      <td>78.60000</td>\n",
       "    </tr>\n",
       "    <tr>\n",
       "      <th>75%</th>\n",
       "      <td>145.750000</td>\n",
       "      <td>2008.500000</td>\n",
       "      <td>8.550000</td>\n",
       "      <td>88.000000</td>\n",
       "      <td>1.650000e+06</td>\n",
       "      <td>186.22500</td>\n",
       "    </tr>\n",
       "    <tr>\n",
       "      <th>max</th>\n",
       "      <td>162.000000</td>\n",
       "      <td>2014.000000</td>\n",
       "      <td>8.900000</td>\n",
       "      <td>94.000000</td>\n",
       "      <td>1.900000e+06</td>\n",
       "      <td>2787.90000</td>\n",
       "    </tr>\n",
       "  </tbody>\n",
       "</table>\n",
       "</div>"
      ],
      "text/plain": [
       "          Runtime  Release Year  IMDB Rating  Metascore         Votes  \\\n",
       "count   10.000000     10.000000    10.000000  10.000000  1.000000e+01   \n",
       "mean   129.200000   2004.300000     7.650000  72.800000  9.880000e+05   \n",
       "std     22.552654      6.447222     1.542905  24.733243  6.670799e+05   \n",
       "min     96.000000   1994.000000     3.600000   9.000000  8.000000e+04   \n",
       "25%    114.500000   1999.500000     7.725000  67.750000  5.250000e+05   \n",
       "50%    131.000000   2003.500000     8.000000  78.000000  7.000000e+05   \n",
       "75%    145.750000   2008.500000     8.550000  88.000000  1.650000e+06   \n",
       "max    162.000000   2014.000000     8.900000  94.000000  1.900000e+06   \n",
       "\n",
       "       Revenue (Millions)  \n",
       "count            10.00000  \n",
       "mean            382.85000  \n",
       "std             856.06742  \n",
       "min               1.80000  \n",
       "25%              46.42500  \n",
       "50%              78.60000  \n",
       "75%             186.22500  \n",
       "max            2787.90000  "
      ]
     },
     "execution_count": 4,
     "metadata": {},
     "output_type": "execute_result"
    }
   ],
   "source": [
    "# Use the .describe() method to obtain the statistics summary of the data.\n",
    "# This method generates descriptive statistics of the data.\n",
    "\n",
    "cult_classics.describe()"
   ]
  },
  {
   "cell_type": "markdown",
   "id": "24ceb632",
   "metadata": {},
   "source": [
    "The code above provides us the statistical summary of all the numerical columns in the dataset. The average runtime in the dataset is 129.2 minutes, while in IMDB Rating and Metascore in 7.65 and 72.8 respectively. It also oes as far as proving us with the 25th, 50th and 75th percentiles.\n",
    "\n",
    "## **Data Cleaning.**\n",
    "During our initial data exploration for our data understandinmg, we figured that there weren't a lot of data quality issues. We do not have null values, or any duplicates.\n",
    "\n",
    "However, lack of the main culprits, does not mean that we do not have to clean the data. In this section we are going to strip and replace the space between the column names with the underscore `_`, and we are going to turn all the names to lower cases for consistency. We are also going to create a primary_genre column and split the genres in every row in the genre column."
   ]
  },
  {
   "cell_type": "code",
   "execution_count": null,
   "id": "31ae7d72",
   "metadata": {},
   "outputs": [],
   "source": [
    "# Rename columns for consistency\n",
    "cult_classics.columns = cult_classics.columns.str.strip().str.lower().str.replace(' ', '_')\n",
    "\n",
    "# Create primary genre\n",
    "cult_classics['primary_genre'] = cult_classics['genres'].apply(lambda x: x.split(',')[0].strip())"
   ]
  },
  {
   "cell_type": "code",
   "execution_count": 7,
   "id": "1fc214bf",
   "metadata": {},
   "outputs": [
    {
     "data": {
      "text/html": [
       "<div>\n",
       "<style scoped>\n",
       "    .dataframe tbody tr th:only-of-type {\n",
       "        vertical-align: middle;\n",
       "    }\n",
       "\n",
       "    .dataframe tbody tr th {\n",
       "        vertical-align: top;\n",
       "    }\n",
       "\n",
       "    .dataframe thead th {\n",
       "        text-align: right;\n",
       "    }\n",
       "</style>\n",
       "<table border=\"1\" class=\"dataframe\">\n",
       "  <thead>\n",
       "    <tr style=\"text-align: right;\">\n",
       "      <th></th>\n",
       "      <th>title</th>\n",
       "      <th>genres</th>\n",
       "      <th>runtime</th>\n",
       "      <th>release_year</th>\n",
       "      <th>imdb_rating</th>\n",
       "      <th>metascore</th>\n",
       "      <th>votes</th>\n",
       "      <th>revenue_(millions)</th>\n",
       "      <th>keywords</th>\n",
       "      <th>primary_genre</th>\n",
       "    </tr>\n",
       "  </thead>\n",
       "  <tbody>\n",
       "    <tr>\n",
       "      <th>0</th>\n",
       "      <td>The Matrix</td>\n",
       "      <td>Action, Sci-Fi</td>\n",
       "      <td>136</td>\n",
       "      <td>1999</td>\n",
       "      <td>8.7</td>\n",
       "      <td>73</td>\n",
       "      <td>1900000</td>\n",
       "      <td>463.5</td>\n",
       "      <td>virtual reality, dystopia</td>\n",
       "      <td>Action</td>\n",
       "    </tr>\n",
       "    <tr>\n",
       "      <th>1</th>\n",
       "      <td>Donnie Darko</td>\n",
       "      <td>Drama, Mystery</td>\n",
       "      <td>113</td>\n",
       "      <td>2001</td>\n",
       "      <td>8.0</td>\n",
       "      <td>88</td>\n",
       "      <td>800000</td>\n",
       "      <td>7.5</td>\n",
       "      <td>time travel, alternate universe</td>\n",
       "      <td>Drama</td>\n",
       "    </tr>\n",
       "    <tr>\n",
       "      <th>2</th>\n",
       "      <td>Pulp Fiction</td>\n",
       "      <td>Crime, Drama</td>\n",
       "      <td>154</td>\n",
       "      <td>1994</td>\n",
       "      <td>8.9</td>\n",
       "      <td>94</td>\n",
       "      <td>1900000</td>\n",
       "      <td>213.9</td>\n",
       "      <td>nonlinear, hitman</td>\n",
       "      <td>Crime</td>\n",
       "    </tr>\n",
       "    <tr>\n",
       "      <th>3</th>\n",
       "      <td>Avatar</td>\n",
       "      <td>Action, Adventure</td>\n",
       "      <td>162</td>\n",
       "      <td>2009</td>\n",
       "      <td>7.8</td>\n",
       "      <td>83</td>\n",
       "      <td>1200000</td>\n",
       "      <td>2787.9</td>\n",
       "      <td>alien, sci-fi</td>\n",
       "      <td>Action</td>\n",
       "    </tr>\n",
       "    <tr>\n",
       "      <th>4</th>\n",
       "      <td>Into the Wild</td>\n",
       "      <td>Adventure, Biography</td>\n",
       "      <td>148</td>\n",
       "      <td>2007</td>\n",
       "      <td>8.1</td>\n",
       "      <td>73</td>\n",
       "      <td>600000</td>\n",
       "      <td>56.3</td>\n",
       "      <td>nature, escape</td>\n",
       "      <td>Adventure</td>\n",
       "    </tr>\n",
       "  </tbody>\n",
       "</table>\n",
       "</div>"
      ],
      "text/plain": [
       "           title                genres  runtime  release_year  imdb_rating  \\\n",
       "0     The Matrix        Action, Sci-Fi      136          1999          8.7   \n",
       "1   Donnie Darko        Drama, Mystery      113          2001          8.0   \n",
       "2   Pulp Fiction          Crime, Drama      154          1994          8.9   \n",
       "3         Avatar     Action, Adventure      162          2009          7.8   \n",
       "4  Into the Wild  Adventure, Biography      148          2007          8.1   \n",
       "\n",
       "   metascore    votes  revenue_(millions)                         keywords  \\\n",
       "0         73  1900000               463.5        virtual reality, dystopia   \n",
       "1         88   800000                 7.5  time travel, alternate universe   \n",
       "2         94  1900000               213.9                nonlinear, hitman   \n",
       "3         83  1200000              2787.9                    alien, sci-fi   \n",
       "4         73   600000                56.3                   nature, escape   \n",
       "\n",
       "  primary_genre  \n",
       "0        Action  \n",
       "1         Drama  \n",
       "2         Crime  \n",
       "3        Action  \n",
       "4     Adventure  "
      ]
     },
     "execution_count": 7,
     "metadata": {},
     "output_type": "execute_result"
    }
   ],
   "source": [
    "# Preview the changes made\n",
    "cult_classics.head()"
   ]
  },
  {
   "cell_type": "markdown",
   "id": "bce2e4ae",
   "metadata": {},
   "source": [
    "### **Exploratory Data Analysis (EDA)**\n",
    "This section we will be getting a feel of the data. We already know the structure of the data as well as the quantitative part of it. This section is to visualize the data and make us familiar with the content of the columns. In this section we are using the seaborn library for our visualizations.\n",
    "\n",
    "#### Rating distribution.\n",
    "Here we are looking at how the ratings have been distributed in the data that we have. This will help us know the average of the ratings or rather the most frequent rating there is in cult box office."
   ]
  },
  {
   "cell_type": "code",
   "execution_count": 16,
   "id": "b19e8128",
   "metadata": {},
   "outputs": [
    {
     "data": {
      "image/png": "[encoded data removed]",
      "text/plain": [
       "<Figure size 432x288 with 1 Axes>"
      ]
     },
     "metadata": {},
     "output_type": "display_data"
    }
   ],
   "source": [
    "# set style\n",
    "plt.style.use('seaborn-darkgrid')\n",
    "\n",
    "# Plot distribution\n",
    "sns.histplot(cult_classics['imdb_rating'], kde= True)\n",
    "plt.title('IMDB rating distribution')\n",
    "plt.show();"
   ]
  },
  {
   "cell_type": "markdown",
   "id": "ed8e0b4f",
   "metadata": {},
   "source": [
    "In the plot above, the most "
   ]
  },
  {
   "cell_type": "code",
   "execution_count": 17,
   "id": "b4e0da05",
   "metadata": {},
   "outputs": [
    {
     "data": {
      "image/png": "[encoded data removed]",
      "text/plain": [
       "<Figure size 432x288 with 1 Axes>"
      ]
     },
     "metadata": {},
     "output_type": "display_data"
    }
   ],
   "source": [
    "sns.scatterplot(x= 'votes', y= 'revenue_(millions)', data= cult_classics)\n",
    "plt.title('Voters vs Revenue')\n",
    "plt.show()"
   ]
  },
  {
   "cell_type": "code",
   "execution_count": 18,
   "id": "9cc600f7",
   "metadata": {},
   "outputs": [
    {
     "data": {
      "image/png": "[encoded data removed]",
      "text/plain": [
       "<Figure size 432x288 with 1 Axes>"
      ]
     },
     "metadata": {},
     "output_type": "display_data"
    }
   ],
   "source": [
    "# Runtime vs revenue\n",
    "sns.lineplot(data= cult_classics, x= 'runtime', y= 'revenue_(millions)')\n",
    "plt.title('Runtime vs Revenue')\n",
    "plt.show()"
   ]
  },
  {
   "cell_type": "code",
   "execution_count": 19,
   "id": "a8daacec",
   "metadata": {},
   "outputs": [
    {
     "data": {
      "image/png": "[encoded data removed]",
      "text/plain": [
       "<Figure size 432x288 with 1 Axes>"
      ]
     },
     "metadata": {},
     "output_type": "display_data"
    }
   ],
   "source": [
    "sns.histplot(cult_classics['metascore'], kde= True)\n",
    "plt.title('Metascore Distribution')\n",
    "plt.show();"
   ]
  },
  {
   "cell_type": "code",
   "execution_count": 20,
   "id": "72b27c1e",
   "metadata": {},
   "outputs": [
    {
     "data": {
      "image/png": "[encoded data removed]",
      "text/plain": [
       "<Figure size 432x288 with 2 Axes>"
      ]
     },
     "metadata": {},
     "output_type": "display_data"
    }
   ],
   "source": [
    "sns.heatmap(cult_classics.corr(), annot= True)\n",
    "plt.title('Columns Relationships')\n",
    "plt.show()"
   ]
  }
 ],
 "metadata": {
  "kernelspec": {
   "display_name": "learn-env",
   "language": "python",
   "name": "python3"
  },
  "language_info": {
   "codemirror_mode": {
    "name": "ipython",
    "version": 3
   },
   "file_extension": ".py",
   "mimetype": "text/x-python",
   "name": "python",
   "nbconvert_exporter": "python",
   "pygments_lexer": "ipython3",
   "version": "3.8.5"
  }
 },
 "nbformat": 4,
 "nbformat_minor": 5
}
